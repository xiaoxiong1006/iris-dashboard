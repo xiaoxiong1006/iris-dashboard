{
 "cells": [
  {
   "cell_type": "code",
   "execution_count": 3,
   "id": "c6a1b548-e5e5-40f7-8e7c-a354f24492a3",
   "metadata": {},
   "outputs": [
    {
     "data": {
      "text/html": [
       "<div>\n",
       "<style scoped>\n",
       "    .dataframe tbody tr th:only-of-type {\n",
       "        vertical-align: middle;\n",
       "    }\n",
       "\n",
       "    .dataframe tbody tr th {\n",
       "        vertical-align: top;\n",
       "    }\n",
       "\n",
       "    .dataframe thead th {\n",
       "        text-align: right;\n",
       "    }\n",
       "</style>\n",
       "<table border=\"1\" class=\"dataframe\">\n",
       "  <thead>\n",
       "    <tr style=\"text-align: right;\">\n",
       "      <th></th>\n",
       "      <th>Id</th>\n",
       "      <th>SepalLengthCm</th>\n",
       "      <th>SepalWidthCm</th>\n",
       "      <th>PetalLengthCm</th>\n",
       "      <th>PetalWidthCm</th>\n",
       "      <th>Species</th>\n",
       "    </tr>\n",
       "  </thead>\n",
       "  <tbody>\n",
       "    <tr>\n",
       "      <th>0</th>\n",
       "      <td>1</td>\n",
       "      <td>5.1</td>\n",
       "      <td>3.5</td>\n",
       "      <td>1.4</td>\n",
       "      <td>0.2</td>\n",
       "      <td>Iris-setosa</td>\n",
       "    </tr>\n",
       "    <tr>\n",
       "      <th>1</th>\n",
       "      <td>2</td>\n",
       "      <td>4.9</td>\n",
       "      <td>3.0</td>\n",
       "      <td>1.4</td>\n",
       "      <td>0.2</td>\n",
       "      <td>Iris-setosa</td>\n",
       "    </tr>\n",
       "    <tr>\n",
       "      <th>2</th>\n",
       "      <td>3</td>\n",
       "      <td>4.7</td>\n",
       "      <td>3.2</td>\n",
       "      <td>1.3</td>\n",
       "      <td>0.2</td>\n",
       "      <td>Iris-setosa</td>\n",
       "    </tr>\n",
       "    <tr>\n",
       "      <th>3</th>\n",
       "      <td>4</td>\n",
       "      <td>4.6</td>\n",
       "      <td>3.1</td>\n",
       "      <td>1.5</td>\n",
       "      <td>0.2</td>\n",
       "      <td>Iris-setosa</td>\n",
       "    </tr>\n",
       "    <tr>\n",
       "      <th>4</th>\n",
       "      <td>5</td>\n",
       "      <td>5.0</td>\n",
       "      <td>3.6</td>\n",
       "      <td>1.4</td>\n",
       "      <td>0.2</td>\n",
       "      <td>Iris-setosa</td>\n",
       "    </tr>\n",
       "  </tbody>\n",
       "</table>\n",
       "</div>"
      ],
      "text/plain": [
       "   Id  SepalLengthCm  SepalWidthCm  PetalLengthCm  PetalWidthCm      Species\n",
       "0   1            5.1           3.5            1.4           0.2  Iris-setosa\n",
       "1   2            4.9           3.0            1.4           0.2  Iris-setosa\n",
       "2   3            4.7           3.2            1.3           0.2  Iris-setosa\n",
       "3   4            4.6           3.1            1.5           0.2  Iris-setosa\n",
       "4   5            5.0           3.6            1.4           0.2  Iris-setosa"
      ]
     },
     "execution_count": 3,
     "metadata": {},
     "output_type": "execute_result"
    }
   ],
   "source": [
    "import pandas as pd\n",
    "\n",
    "# 读取数据集\n",
    "iris = pd.read_csv(\"data/iris.csv\")\n",
    "\n",
    "# 显示数据的前5行\n",
    "iris.head()"
   ]
  },
  {
   "cell_type": "code",
   "execution_count": 4,
   "id": "a24135fc-b11c-446c-837d-d862cc91a4a8",
   "metadata": {},
   "outputs": [],
   "source": [
    "# 查看种类的分布情况\n",
    "species_counts = iris.Species.value_counts()"
   ]
  },
  {
   "cell_type": "code",
   "execution_count": 5,
   "id": "c1b07a2d-08c8-4fea-bbd9-7b973cfbd246",
   "metadata": {},
   "outputs": [
    {
     "name": "stdout",
     "output_type": "stream",
     "text": [
      "[{'species': 'Iris-setosa', 'count': 50}, {'species': 'Iris-versicolor', 'count': 50}, {'species': 'Iris-virginica', 'count': 50}]\n"
     ]
    }
   ],
   "source": [
    "# 转换为对象数组格式\n",
    "echarts_data = [{\"species\": species, \"count\": count} for species, count in species_counts.items()]\n",
    "\n",
    "# 显示转换结果\n",
    "print(echarts_data)"
   ]
  },
  {
   "cell_type": "code",
   "execution_count": 6,
   "id": "05ee15fc-ff20-4106-af88-bb726fb4e0a2",
   "metadata": {},
   "outputs": [
    {
     "name": "stdout",
     "output_type": "stream",
     "text": [
      "[\n",
      "    {\n",
      "        \"species\": \"Iris-setosa\",\n",
      "        \"count\": 50\n",
      "    },\n",
      "    {\n",
      "        \"species\": \"Iris-versicolor\",\n",
      "        \"count\": 50\n",
      "    },\n",
      "    {\n",
      "        \"species\": \"Iris-virginica\",\n",
      "        \"count\": 50\n",
      "    }\n",
      "]\n"
     ]
    }
   ],
   "source": [
    "import json\n",
    "# 将对象数组转换为 JSON 字符串\n",
    "json_data = json.dumps(echarts_data,indent=4)\n",
    "print(json_data)"
   ]
  },
  {
   "cell_type": "code",
   "execution_count": 7,
   "id": "51ca8736-fc85-4876-b545-dbefb6367b19",
   "metadata": {},
   "outputs": [],
   "source": [
    "# 将 JSON 字符串保存到文件\n",
    "with open(\"data.json\", \"w\", encoding=\"utf-8\") as file:\n",
    "    file.write(json_data)"
   ]
  },
  {
   "cell_type": "code",
   "execution_count": 9,
   "id": "4de11d4c-3eac-4633-8c27-aabd522c1cc9",
   "metadata": {},
   "outputs": [],
   "source": [
    "import pandas as pd\n",
    "\n",
    "# 读取数据集\n",
    "iris = pd.read_csv(\"data/iris.csv\")\n",
    "\n",
    "# 查看种类的分布情况\n",
    "species_counts = iris.Species.value_counts()\n",
    "\n",
    "# 转换为对象数组格式\n",
    "echarts_data = [{\"species\": species, \"count\": count} for species, count in species_counts.items()]\n",
    "\n"
   ]
  },
  {
   "cell_type": "code",
   "execution_count": 10,
   "id": "de8650fe-9c33-4205-bfb5-200acf54e32d",
   "metadata": {},
   "outputs": [
    {
     "data": {
      "text/plain": [
       "(50, 6)"
      ]
     },
     "execution_count": 10,
     "metadata": {},
     "output_type": "execute_result"
    }
   ],
   "source": [
    "# 获取山鸢尾（Iris-setosa）的记录\n",
    "Iris_setosa = iris[iris.Species=='Iris-setosa']\n",
    "Iris_setosa.shape"
   ]
  },
  {
   "cell_type": "code",
   "execution_count": 14,
   "id": "01e6bd55-0308-45c4-ae9b-edcefdfe9974",
   "metadata": {
    "tags": []
   },
   "outputs": [
    {
     "data": {
      "text/plain": [
       "[[1.4, 0.2],\n",
       " [1.4, 0.2],\n",
       " [1.3, 0.2],\n",
       " [1.5, 0.2],\n",
       " [1.4, 0.2],\n",
       " [1.7, 0.4],\n",
       " [1.4, 0.3],\n",
       " [1.5, 0.2],\n",
       " [1.4, 0.2],\n",
       " [1.5, 0.1],\n",
       " [1.5, 0.2],\n",
       " [1.6, 0.2],\n",
       " [1.4, 0.1],\n",
       " [1.1, 0.1],\n",
       " [1.2, 0.2],\n",
       " [1.5, 0.4],\n",
       " [1.3, 0.4],\n",
       " [1.4, 0.3],\n",
       " [1.7, 0.3],\n",
       " [1.5, 0.3],\n",
       " [1.7, 0.2],\n",
       " [1.5, 0.4],\n",
       " [1.0, 0.2],\n",
       " [1.7, 0.5],\n",
       " [1.9, 0.2],\n",
       " [1.6, 0.2],\n",
       " [1.6, 0.4],\n",
       " [1.5, 0.2],\n",
       " [1.4, 0.2],\n",
       " [1.6, 0.2],\n",
       " [1.6, 0.2],\n",
       " [1.5, 0.4],\n",
       " [1.5, 0.1],\n",
       " [1.4, 0.2],\n",
       " [1.5, 0.1],\n",
       " [1.2, 0.2],\n",
       " [1.3, 0.2],\n",
       " [1.5, 0.1],\n",
       " [1.3, 0.2],\n",
       " [1.5, 0.2],\n",
       " [1.3, 0.3],\n",
       " [1.3, 0.3],\n",
       " [1.3, 0.2],\n",
       " [1.6, 0.6],\n",
       " [1.9, 0.4],\n",
       " [1.4, 0.3],\n",
       " [1.6, 0.2],\n",
       " [1.4, 0.2],\n",
       " [1.5, 0.2],\n",
       " [1.4, 0.2]]"
      ]
     },
     "execution_count": 14,
     "metadata": {},
     "output_type": "execute_result"
    }
   ],
   "source": [
    "Iris_setosa[['PetalLengthCm','PetalWidthCm']].values.tolist()"
   ]
  },
  {
   "cell_type": "code",
   "execution_count": 5,
   "id": "edf31970-e3ee-4f8e-95e0-95b192d80b59",
   "metadata": {},
   "outputs": [
    {
     "data": {
      "text/plain": [
       "(50, 6)"
      ]
     },
     "execution_count": 5,
     "metadata": {},
     "output_type": "execute_result"
    }
   ],
   "source": [
    "# 获取杂色鸢尾（Iris Versicolour）的记录\n",
    "Iris_versicolor = iris[iris.Species=='Iris-versicolor']\n",
    "Iris_versicolor.shape"
   ]
  },
  {
   "cell_type": "code",
   "execution_count": 6,
   "id": "945ec9e4-6234-407e-b680-e353e5ea2fe6",
   "metadata": {},
   "outputs": [
    {
     "data": {
      "text/plain": [
       "(50, 6)"
      ]
     },
     "execution_count": 6,
     "metadata": {},
     "output_type": "execute_result"
    }
   ],
   "source": [
    "# 获取弗吉尼亚鸢尾 Iris Virginica）的记录\n",
    "Iris_virginica = iris[iris.Species=='Iris-virginica']\n",
    "Iris_virginica.shape"
   ]
  },
  {
   "cell_type": "code",
   "execution_count": 7,
   "id": "0b4091aa-54cb-48d4-b54e-9c301432dbc0",
   "metadata": {},
   "outputs": [
    {
     "data": {
      "text/html": [
       "<div>\n",
       "<style scoped>\n",
       "    .dataframe tbody tr th:only-of-type {\n",
       "        vertical-align: middle;\n",
       "    }\n",
       "\n",
       "    .dataframe tbody tr th {\n",
       "        vertical-align: top;\n",
       "    }\n",
       "\n",
       "    .dataframe thead th {\n",
       "        text-align: right;\n",
       "    }\n",
       "</style>\n",
       "<table border=\"1\" class=\"dataframe\">\n",
       "  <thead>\n",
       "    <tr style=\"text-align: right;\">\n",
       "      <th></th>\n",
       "      <th>Id</th>\n",
       "      <th>SepalLengthCm</th>\n",
       "      <th>SepalWidthCm</th>\n",
       "      <th>PetalLengthCm</th>\n",
       "      <th>PetalWidthCm</th>\n",
       "      <th>Species</th>\n",
       "    </tr>\n",
       "  </thead>\n",
       "  <tbody>\n",
       "    <tr>\n",
       "      <th>43</th>\n",
       "      <td>44</td>\n",
       "      <td>5.0</td>\n",
       "      <td>3.5</td>\n",
       "      <td>1.6</td>\n",
       "      <td>0.6</td>\n",
       "      <td>Iris-setosa</td>\n",
       "    </tr>\n",
       "    <tr>\n",
       "      <th>17</th>\n",
       "      <td>18</td>\n",
       "      <td>5.1</td>\n",
       "      <td>3.5</td>\n",
       "      <td>1.4</td>\n",
       "      <td>0.3</td>\n",
       "      <td>Iris-setosa</td>\n",
       "    </tr>\n",
       "    <tr>\n",
       "      <th>22</th>\n",
       "      <td>23</td>\n",
       "      <td>4.6</td>\n",
       "      <td>3.6</td>\n",
       "      <td>1.0</td>\n",
       "      <td>0.2</td>\n",
       "      <td>Iris-setosa</td>\n",
       "    </tr>\n",
       "    <tr>\n",
       "      <th>10</th>\n",
       "      <td>11</td>\n",
       "      <td>5.4</td>\n",
       "      <td>3.7</td>\n",
       "      <td>1.5</td>\n",
       "      <td>0.2</td>\n",
       "      <td>Iris-setosa</td>\n",
       "    </tr>\n",
       "    <tr>\n",
       "      <th>12</th>\n",
       "      <td>13</td>\n",
       "      <td>4.8</td>\n",
       "      <td>3.0</td>\n",
       "      <td>1.4</td>\n",
       "      <td>0.1</td>\n",
       "      <td>Iris-setosa</td>\n",
       "    </tr>\n",
       "    <tr>\n",
       "      <th>39</th>\n",
       "      <td>40</td>\n",
       "      <td>5.1</td>\n",
       "      <td>3.4</td>\n",
       "      <td>1.5</td>\n",
       "      <td>0.2</td>\n",
       "      <td>Iris-setosa</td>\n",
       "    </tr>\n",
       "    <tr>\n",
       "      <th>6</th>\n",
       "      <td>7</td>\n",
       "      <td>4.6</td>\n",
       "      <td>3.4</td>\n",
       "      <td>1.4</td>\n",
       "      <td>0.3</td>\n",
       "      <td>Iris-setosa</td>\n",
       "    </tr>\n",
       "    <tr>\n",
       "      <th>37</th>\n",
       "      <td>38</td>\n",
       "      <td>4.9</td>\n",
       "      <td>3.1</td>\n",
       "      <td>1.5</td>\n",
       "      <td>0.1</td>\n",
       "      <td>Iris-setosa</td>\n",
       "    </tr>\n",
       "    <tr>\n",
       "      <th>47</th>\n",
       "      <td>48</td>\n",
       "      <td>4.6</td>\n",
       "      <td>3.2</td>\n",
       "      <td>1.4</td>\n",
       "      <td>0.2</td>\n",
       "      <td>Iris-setosa</td>\n",
       "    </tr>\n",
       "    <tr>\n",
       "      <th>19</th>\n",
       "      <td>20</td>\n",
       "      <td>5.1</td>\n",
       "      <td>3.8</td>\n",
       "      <td>1.5</td>\n",
       "      <td>0.3</td>\n",
       "      <td>Iris-setosa</td>\n",
       "    </tr>\n",
       "  </tbody>\n",
       "</table>\n",
       "</div>"
      ],
      "text/plain": [
       "    Id  SepalLengthCm  SepalWidthCm  PetalLengthCm  PetalWidthCm      Species\n",
       "43  44            5.0           3.5            1.6           0.6  Iris-setosa\n",
       "17  18            5.1           3.5            1.4           0.3  Iris-setosa\n",
       "22  23            4.6           3.6            1.0           0.2  Iris-setosa\n",
       "10  11            5.4           3.7            1.5           0.2  Iris-setosa\n",
       "12  13            4.8           3.0            1.4           0.1  Iris-setosa\n",
       "39  40            5.1           3.4            1.5           0.2  Iris-setosa\n",
       "6    7            4.6           3.4            1.4           0.3  Iris-setosa\n",
       "37  38            4.9           3.1            1.5           0.1  Iris-setosa\n",
       "47  48            4.6           3.2            1.4           0.2  Iris-setosa\n",
       "19  20            5.1           3.8            1.5           0.3  Iris-setosa"
      ]
     },
     "execution_count": 7,
     "metadata": {},
     "output_type": "execute_result"
    }
   ],
   "source": [
    "Iris_setosa.sample(10)"
   ]
  },
  {
   "cell_type": "code",
   "execution_count": null,
   "id": "b05f004b-2e99-4592-b940-146d0ca9b1f3",
   "metadata": {},
   "outputs": [],
   "source": []
  }
 ],
 "metadata": {
  "kernelspec": {
   "display_name": "Python 3 (ipykernel)",
   "language": "python",
   "name": "python3"
  },
  "language_info": {
   "codemirror_mode": {
    "name": "ipython",
    "version": 3
   },
   "file_extension": ".py",
   "mimetype": "text/x-python",
   "name": "python",
   "nbconvert_exporter": "python",
   "pygments_lexer": "ipython3",
   "version": "3.8.6"
  }
 },
 "nbformat": 4,
 "nbformat_minor": 5
}
